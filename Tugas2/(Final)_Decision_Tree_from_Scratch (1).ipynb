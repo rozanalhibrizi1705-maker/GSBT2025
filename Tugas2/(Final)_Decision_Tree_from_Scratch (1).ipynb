{
  "nbformat": 4,
  "nbformat_minor": 0,
  "metadata": {
    "colab": {
      "provenance": []
    },
    "kernelspec": {
      "name": "python3",
      "display_name": "Python 3"
    },
    "language_info": {
      "name": "python"
    }
  },
  "cells": [
    {
      "cell_type": "markdown",
      "source": [
        "# Overview Materi\n",
        "\n",
        "Source: https://www.youtube.com/watch?v=LDRbO9a6XPU"
      ],
      "metadata": {
        "id": "fQjXfMWTFXhh"
      }
    },
    {
      "cell_type": "code",
      "source": [
        "ecision tree adalah metode yang digunakan dalam analisis data maupun machine learning untuk membantu pengambilan keputusan dengan menyusun setiap opsi atau langkah ke dalam bentuk struktur pohon bercabang, mulai dari sebuah node akar, bertingkat ke node keputusan, dan berakhir di node daun yang mewakili hasil akhir atau prediksi."
      ],
      "metadata": {
        "id": "YKStHhspNQEK"
      },
      "execution_count": null,
      "outputs": []
    },
    {
      "cell_type": "markdown",
      "source": [
        "Jelaskan secara singkat apa itu decision tree menurut pemahamanmu!"
      ],
      "metadata": {
        "id": "UH5otNgmFY4r"
      }
    },
    {
      "cell_type": "markdown",
      "source": [
        "# Import Data & Libraries"
      ],
      "metadata": {
        "id": "yR_dxhoaIGZY"
      }
    },
    {
      "cell_type": "code",
      "execution_count": null,
      "metadata": {
        "id": "E3fobMaeFOAe"
      },
      "outputs": [],
      "source": [
        "from __future__ import print_function\n",
        "\n",
        "# label kolom\n",
        "header = [\"color\", \"diameter\", \"label\"]\n",
        "\n",
        "# data training\n",
        "training_data = [\n",
        "    ['Green', 3, 'Apple'],\n",
        "    ['Yellow', 3, 'Apple'],\n",
        "    ['Red', 1, 'Grape'],\n",
        "    ['Red', 1, 'Grape'],\n",
        "    ['Yellow', 3, 'Lemon'],]\n",
        "\n",
        "# data testing\n",
        "testing_data = [\n",
        "    ['Green', 3, 'Apple'],\n",
        "    ['Yellow', 4, 'Apple'],\n",
        "    ['Red', 2, 'Grape'],\n",
        "    ['Red', 1, 'Grape'],\n",
        "    ['Yellow', 3, 'Lemon'],]"
      ]
    },
    {
      "cell_type": "markdown",
      "source": [
        "# Fungsi Dasar"
      ],
      "metadata": {
        "id": "YMsTb3E1MWY6"
      }
    },
    {
      "cell_type": "code",
      "source": [
        "# fungsi mencari apa saja unique value dari suatu kolom\n",
        "df['nama_kolom'].unique() akan menghasilkan nilai unik dari kolom nama_kolom.\n",
        "\n",
        "Untuk menghitung jumlah nilai unik, gunakan nunique(), misal df['nama_kolom'].nunique().\n",
        "\n",
        "Untuk mengetahui frekuensi kemunculan tiap unik value, bisa digunakan value_counts() seperti df['nama_kolom'].value_counts()\n",
        "\n",
        "# contoh penggunaan\n",
        "import pandas as pd\n",
        "\n",
        "df = pd.DataFrame({\n",
        "    'kolom_a': [1, 2, 2, 3, 4, 4, 4, 5]\n",
        "})\n",
        "\n",
        "unique_values = df['kolom_a'].unique()\n",
        "print(unique_values)"
      ],
      "metadata": {
        "id": "Bgzx5gwhSTWp"
      },
      "execution_count": null,
      "outputs": []
    },
    {
      "cell_type": "code",
      "source": [
        "# fungsi Menghitung jumlah unique value dari suatu kolom\n",
        "def class_counts(rows):\n",
        "    counts =\n",
        "    for row in rows:\n",
        "        label = row\n",
        "        if label not in counts:\n",
        "            counts[label] = 1\n",
        "        else:\n",
        "            counts[label] += 1\n",
        "    return counts\n",
        "\n",
        "# contoh penggunaan\n",
        "data = [1, 2, 2, 3, 4, 4, 4, 5]\n",
        "print(class_counts(data))"
      ],
      "metadata": {
        "id": "hhF6uUhrJesN",
        "colab": {
          "base_uri": "https://localhost:8080/"
        },
        "outputId": "9b8074b2-4964-4a7a-f17d-b6d5131df985"
      },
      "execution_count": null,
      "outputs": [
        {
          "output_type": "execute_result",
          "data": {
            "text/plain": [
              "Ellipsis"
            ]
          },
          "metadata": {},
          "execution_count": 1
        }
      ]
    },
    {
      "cell_type": "code",
      "source": [
        "# fungsi pengecekan suatu value numerik atau bukan\n",
        "def is_numeric(value):\n",
        "    try:\n",
        "        float(value)\n",
        "        return True\n",
        "    except ValueError:\n",
        "        return False\n",
        "\n",
        "# contoh penggunaan\n",
        "print(is_numeric(42))        # True\n",
        "print(is_numeric(3.14))      # True\n",
        "print(is_numeric(\"123\"))     # True, karena bisa dikonversi ke float\n",
        "print(is_numeric(\"abc\"))     # False\n",
        "print(is_numeric(None))      # False"
      ],
      "metadata": {
        "id": "U9mxqVcnI9vw"
      },
      "execution_count": null,
      "outputs": []
    },
    {
      "cell_type": "code",
      "source": [
        "# kelas untuk merepresentasikan pertanyaan pada decision tree\n",
        "class Question:\n",
        "\n",
        "    # inisialisasi kolom dan nilai pertanyaan\n",
        "    def __init__(self, column, value):\n",
        "        self.column = column\n",
        "        self.value = value\n",
        "\n",
        "    # mengecek apakah contoh data sesuai dengan pertanyaan\n",
        "    def match(self, example):\n",
        "        val = example[self.column]\n",
        "        if isinstance(val, (int, float)):\n",
        "            return val >= self.value\n",
        "        else:\n",
        "            return val == self.value\n",
        "\n",
        "    # menampilkan pertanyaan dalam format string yang mudah dibaca\n",
        "    def __repr__(self):\n",
        "        condition = \">=\" if isinstance(self.value, (int, float)) else \"==\"\n",
        "        return f\"Is column[{self.column}] {condition} {self.value}?\"\n",
        "\n",
        "# contoh penggunaan 1\n",
        "q = Question(1, 5)\n",
        "example1 = [3, 7]\n",
        "example2 = [4, 3]\n",
        "print(q)              # Output: Is column[1] >= 5?\n",
        "print(q.match(example1))  # Output: True\n",
        "print(q.match(example2))  # Output: False"
      ],
      "metadata": {
        "id": "MekftmdeLPRo"
      },
      "execution_count": null,
      "outputs": []
    },
    {
      "cell_type": "code",
      "source": [
        "# membagi dataset menjadi dua berdasarkan pertanyaan\n",
        "def partition(rows, question):\n",
        "    true_rows, false_rows = [], []\n",
        "    for row in rows:\n",
        "        if question.match(row):\n",
        "            true_rows.append(row)\n",
        "        else:\n",
        "            false_rows.append(row)\n",
        "    return true_rows, false_rows\n",
        "\n",
        "\n",
        "# contoh penggunaan\n",
        "true_rows, false_rows = partition(training_data, Question(0, 'Red'))\n",
        "print(true_rows)  # Output: [['Red', 1, 'Grape'], ['Red', 1, 'Grape']]\n",
        "print(false_rows)  # Output:"
      ],
      "metadata": {
        "id": "Y3lTf9NbL8Ik"
      },
      "execution_count": null,
      "outputs": []
    },
    {
      "cell_type": "markdown",
      "source": [
        "**apa itu gini impurity?**\n",
        "<br> gini impurity berfungsi mengukur tingkat ketidakmurnian atau ketidakteraturan pada sebuah simpul (node) dalam pohon"
      ],
      "metadata": {
        "id": "X4D5BkyeMdSG"
      }
    },
    {
      "cell_type": "code",
      "source": [
        "# menghitung nilai Gini Impurity untuk sebuah dataset\n",
        "def gini(rows):\n",
        "    counts = class_counts(rows)\n",
        "    impurity = 1\n",
        "    for lbl in counts:\n",
        "        prob_of_lbl = counts[lbl] / float(len(rows))\n",
        "        impurity -= prob_of_lbl**2\n",
        "    return impurity\n",
        "\n",
        "# contoh penggunaan\n",
        "gini(training_data) :: 0.639"
      ],
      "metadata": {
        "id": "DmAnmSzFMKtA"
      },
      "execution_count": null,
      "outputs": []
    },
    {
      "cell_type": "markdown",
      "source": [
        "**apa itu information gain?**\n",
        "<br> information gain berfungsi mengukur seberapa efektif sebuah fitur dalam memisahkan data berdasarkan kelas-kelasnya"
      ],
      "metadata": {
        "id": "SyxWlLNOM_2U"
      }
    },
    {
      "cell_type": "code",
      "source": [
        "# menghitung nilai Information Gain dari pemisahan dataset\n",
        "def info_gain(left, right, current_uncertainty):\n",
        "    gain = current_uncertainty\n",
        "    p = float(len(left)) / (len(left) + len(right))\n",
        "    gain -= p * gini(left)\n",
        "    gain -= (1 - p) * gini(right)\n",
        "    return gain\n",
        "\n",
        "# contoh penggunaan\n",
        "gain = info_gain(true_rows, false_rows, gini(training_data))\n",
        "print(gain)  # Output: 0.0"
      ],
      "metadata": {
        "id": "rObVucEEMiIZ"
      },
      "execution_count": null,
      "outputs": []
    },
    {
      "cell_type": "code",
      "source": [
        "# mencari pertanyaan terbaik untuk membagi dataset berdasarkan information gain tertinggi\n",
        "def find_best_split(rows):\n",
        "    best_gain = 0  # Nilai information gain terbaik\n",
        "    best_question = None  # Pertanyaan terbaik\n",
        "    current_uncertainty = gini(rows)\n",
        "    n_features = len(rows[0]) - 1  # Asumsi kolom terakhir adalah label\n",
        "\n",
        "    for col in range(n_features):\n",
        "        values = set([row[col] for row in rows])  # Nilai unik di kolom ini\n",
        "        for val in values:\n",
        "            question = Question(col, val)\n",
        "\n",
        "            # Membagi dataset\n",
        "            true_rows, false_rows = partition(rows, question)\n",
        "\n",
        "            # Lewati split jika tidak membagi data\n",
        "            if len(true_rows) == 0 or len(false_rows) == 0:\n",
        "                continue\n",
        "\n",
        "            # Hitung information gain\n",
        "            gain = info_gain(true_rows, false_rows, current_uncertainty)\n",
        "\n",
        "            # Simpan split terbaik\n",
        "            if gain > best_gain:\n",
        "                best_gain, best_question = gain, question\n",
        "\n",
        "    return best_gain, best_question\n",
        "\n",
        "# contoh penggunaan\n",
        "training_data = [\n",
        "    [3, 'Red', 'Apple'],\n",
        "    [1, 'Green', 'Grape'],\n",
        "    [2, 'Red', 'Grape'],\n",
        "    [3, 'Green', 'Apple']\n",
        "]\n",
        "best_gain, best_question = find_best_split(training_data)\n",
        "print('Best Gain:', best_gain)\n",
        "print('Best Question:', best_question)"
      ],
      "metadata": {
        "id": "OK8Lc7koOIyS"
      },
      "execution_count": null,
      "outputs": []
    },
    {
      "cell_type": "markdown",
      "source": [
        "# Fungsi Decision Tree"
      ],
      "metadata": {
        "id": "t225xaaIPGow"
      }
    },
    {
      "cell_type": "code",
      "source": [
        "# merepresentasikan node daun (leaf) pada decision tree yang berisi hasil prediksi\n",
        "class Leaf:\n",
        "\n",
        "\n",
        "    # inisialisasi leaf dengan menghitung jumlah kemunculan tiap kelas\n",
        "    def __init__(self, rows):\n",
        "        self.predictions = class_counts([row[-1] for row in rows])"
      ],
      "metadata": {
        "id": "3KXNVwMPOZ5c"
      },
      "execution_count": null,
      "outputs": []
    },
    {
      "cell_type": "code",
      "source": [
        "# merepresentasikan node keputusan (decision node) yang berisi pertanyaan dan cabang\n",
        "class Decision_Node:\n",
        "\n",
        "    # inisialisasi node dengan pertanyaan, cabang benar, dan cabang salah\n",
        "    class Decision_Node:\n",
        "    def __init__(self, question, true_branch, false_branch):\n",
        "        self.question = question\n",
        "        self.true_branch = true_branch\n",
        "        self.false_branch = false_branch\n",
        "\n"
      ],
      "metadata": {
        "id": "gktUwUY-P-eN"
      },
      "execution_count": null,
      "outputs": []
    },
    {
      "cell_type": "code",
      "source": [
        "# membangun decision tree secara rekursif\n",
        "def build_tree(rows):\n",
        "    gain, question = find_best_split(rows)\n",
        "    if gain == 0:\n",
        "        return Leaf(rows)\n",
        "    true_rows, false_rows = partition(rows, question)\n",
        "    true_branch = build_tree(true_rows)\n",
        "    false_branch = build_tree(false_rows)\n",
        "    return Decision_Node(question, true_branch, false_branch)"
      ],
      "metadata": {
        "id": "_cWHvsMKPPsk"
      },
      "execution_count": null,
      "outputs": []
    },
    {
      "cell_type": "code",
      "source": [
        "# mencetak struktur decision tree secara rekursif dalam format teks\n",
        "def classify(row, node):\n",
        "    # base case: jika sudah mencapai leaf\n",
        "    if isinstance(node, Leaf):\n",
        "        return node.predictions\n",
        "    # menentukan apakah mengikuti cabang true atau cabang false\n",
        "    if node.question.match(row):\n",
        "        return classify(row, node.true_branch)\n",
        "    else:\n",
        "        return classify(row, node.false_branch)\n",
        "\n",
        "# contoh penggunaan\n",
        "training_data = [\n",
        "    [3, 'Red', 'Apple'],\n",
        "    [1, 'Green', 'Grape'],\n",
        "    [2, 'Red', 'Grape'],\n",
        "    [3, 'Green', 'Apple']\n",
        "]\n",
        "tree = build_tree(training_data)\n",
        "row = [2, 'Red']\n",
        "print(classify(row, tree))  # Output: prediksi kelas dalam bentuk dictionary"
      ],
      "metadata": {
        "id": "tx_AbjiYPS05"
      },
      "execution_count": null,
      "outputs": []
    },
    {
      "cell_type": "code",
      "source": [
        "def classify(row, node):\n",
        "    # base case: jika sudah mencapai leaf\n",
        "    if isinstance(node, Leaf):\n",
        "        return node.predictions\n",
        "    # menentukan apakah mengikuti cabang true atau cabang false\n",
        "    if node.question.match(row):\n",
        "        return classify(row, node.true_branch)\n",
        "    else:\n",
        "        return classify(row, node.false_branch)\n",
        "\n",
        "# contoh penggunaan\n",
        "training_data = [\n",
        "    [3, 'Red', 'Apple'],\n",
        "    [1, 'Green', 'Grape'],\n",
        "    [2, 'Red', 'Grape'],\n",
        "    [3, 'Green', 'Apple']\n",
        "]\n",
        "tree = build_tree(training_data)\n",
        "row = [2, 'Red']\n",
        "print(classify(row, tree))  # Output: prediksi kelas dalam bentuk dictionary"
      ],
      "metadata": {
        "id": "tchvhQc-PVC2"
      },
      "execution_count": null,
      "outputs": []
    },
    {
      "cell_type": "code",
      "source": [
        "# menampilkan prediksi pada leaf dalam format persentase\n",
        "def print_leaf(counts):\n",
        "    total = sum(counts.values())\n",
        "    probs = {}\n",
        "    for label in counts:\n",
        "        probs[label] = f\"{int(counts[label] / total * 100)}%\"\n",
        "    return probs\n",
        "\n",
        "# contoh penggunaan\n",
        "counts = {\"Apple\": 2, \"Grape\": 1}\n",
        "print(print_leaf(counts))  # Output: {'Apple': '66%', 'Grape': '33%'}\n"
      ],
      "metadata": {
        "id": "w8r0lzWpQM7c"
      },
      "execution_count": null,
      "outputs": []
    },
    {
      "cell_type": "markdown",
      "source": [
        "# Predict Using Decision Tree"
      ],
      "metadata": {
        "id": "JLT1_TuuQWlI"
      }
    },
    {
      "cell_type": "code",
      "source": [
        "# menguji decision tree dengan data uji dan membandingkan hasil prediksi dengan label asli\n",
        "# testing_data: list of rows, setiap row berisi fitur dan label asli di kolom terakhir\n",
        "for row in testing_data:\n",
        "    # prediksi menggunakan decision tree\n",
        "    prediction = classify(row[:-1], tree)  # row[:-1] = fitur saja\n",
        "    # label asli\n",
        "    actual = row[-1]\n",
        "    # tampilkan hasil prediksi dan label asli\n",
        "    print(f\"Prediksi: {print_leaf(prediction)}, Label asli: {actual}\")"
      ],
      "metadata": {
        "id": "DhG5NCwHQSlF"
      },
      "execution_count": null,
      "outputs": []
    }
  ]
}