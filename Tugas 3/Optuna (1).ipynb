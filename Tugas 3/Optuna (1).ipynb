{
  "cells": [
    {
      "cell_type": "markdown",
      "id": "e8501fb5-0e3e-4ac4-a33d-1c46bec618c5",
      "metadata": {
        "id": "e8501fb5-0e3e-4ac4-a33d-1c46bec618c5"
      },
      "source": [
        "# Overview Materi"
      ]
    },
    {
      "cell_type": "markdown",
      "id": "ddf97288-67e8-46cb-9c3c-b62f4420e4e0",
      "metadata": {
        "id": "ddf97288-67e8-46cb-9c3c-b62f4420e4e0"
      },
      "source": [
        "Jelaskan perbedaan singkat antara grid, randomized, bayesian search cv dengan optuna menurut pemahamanmu\n",
        "\n",
        "source: https://www.youtube.com/watch?v=t-INgABWULw"
      ]
    },
    {
      "cell_type": "markdown",
      "id": "3c54fdc7-5a95-43e1-8228-dd2f33f3b006",
      "metadata": {
        "id": "3c54fdc7-5a95-43e1-8228-dd2f33f3b006"
      },
      "source": [
        "# Import Data & Libraries"
      ]
    },
    {
      "cell_type": "code",
      "source": [
        "# jalankan hanya sekali\n",
        "!pip install optuna -q"
      ],
      "metadata": {
        "id": "ZTyJd06_6RJ8",
        "colab": {
          "base_uri": "https://localhost:8080/"
        },
        "outputId": "73db4ed8-46b9-4997-f4e8-888e6deacc2f"
      },
      "id": "ZTyJd06_6RJ8",
      "execution_count": 8,
      "outputs": [
        {
          "output_type": "stream",
          "name": "stdout",
          "text": [
            "Traceback (most recent call last):\n",
            "  File \"/usr/local/lib/python3.12/dist-packages/pip/_internal/cli/base_command.py\", line 179, in exc_logging_wrapper\n",
            "    status = run_func(*args)\n",
            "             ^^^^^^^^^^^^^^^\n",
            "  File \"/usr/local/lib/python3.12/dist-packages/pip/_internal/cli/req_command.py\", line 67, in wrapper\n",
            "    return func(self, options, args)\n",
            "           ^^^^^^^^^^^^^^^^^^^^^^^^^\n",
            "  File \"/usr/local/lib/python3.12/dist-packages/pip/_internal/commands/install.py\", line 447, in run\n",
            "    conflicts = self._determine_conflicts(to_install)\n",
            "                ^^^^^^^^^^^^^^^^^^^^^^^^^^^^^^^^^^^^^\n",
            "  File \"/usr/local/lib/python3.12/dist-packages/pip/_internal/commands/install.py\", line 578, in _determine_conflicts\n",
            "    return check_install_conflicts(to_install)\n",
            "           ^^^^^^^^^^^^^^^^^^^^^^^^^^^^^^^^^^^\n",
            "  File \"/usr/local/lib/python3.12/dist-packages/pip/_internal/operations/check.py\", line 101, in check_install_conflicts\n",
            "    package_set, _ = create_package_set_from_installed()\n",
            "                     ^^^^^^^^^^^^^^^^^^^^^^^^^^^^^^^^^^^\n",
            "  File \"/usr/local/lib/python3.12/dist-packages/pip/_internal/operations/check.py\", line 43, in create_package_set_from_installed\n",
            "    package_set[name] = PackageDetails(dist.version, dependencies)\n",
            "                                       ^^^^^^^^^^^^\n",
            "  File \"/usr/local/lib/python3.12/dist-packages/pip/_internal/metadata/importlib/_dists.py\", line 175, in version\n",
            "    return parse_version(self._dist.version)\n",
            "                         ^^^^^^^^^^^^^^^^^^\n",
            "  File \"/usr/lib/python3.12/importlib/metadata/__init__.py\", line 467, in version\n",
            "    return self.metadata['Version']\n",
            "           ^^^^^^^^^^^^^\n",
            "  File \"/usr/lib/python3.12/importlib/metadata/__init__.py\", line 452, in metadata\n",
            "    return _adapters.Message(email.message_from_string(text))\n",
            "                             ^^^^^^^^^^^^^^^^^^^^^^^^^^^^^^^\n",
            "  File \"/usr/lib/python3.12/email/__init__.py\", line 37, in message_from_string\n",
            "    return Parser(*args, **kws).parsestr(s)\n",
            "           ^^^^^^^^^^^^^^^^^^^^^^^^^^^^^^^^\n",
            "  File \"/usr/lib/python3.12/email/parser.py\", line 64, in parsestr\n",
            "    return self.parse(StringIO(text), headersonly=headersonly)\n",
            "           ^^^^^^^^^^^^^^^^^^^^^^^^^^^^^^^^^^^^^^^^^^^^^^^^^^^\n",
            "  File \"/usr/lib/python3.12/email/parser.py\", line 53, in parse\n",
            "    feedparser.feed(data)\n",
            "  File \"/usr/lib/python3.12/email/feedparser.py\", line 174, in feed\n",
            "    self._call_parse()\n",
            "  File \"/usr/lib/python3.12/email/feedparser.py\", line 178, in _call_parse\n",
            "    self._parse()\n",
            "  File \"/usr/lib/python3.12/email/feedparser.py\", line 235, in _parsegen\n",
            "    headers.append(line)\n",
            "KeyboardInterrupt\n",
            "\n",
            "During handling of the above exception, another exception occurred:\n",
            "\n",
            "Traceback (most recent call last):\n",
            "  File \"/usr/local/bin/pip3\", line 10, in <module>\n",
            "    sys.exit(main())\n",
            "             ^^^^^^\n",
            "  File \"/usr/local/lib/python3.12/dist-packages/pip/_internal/cli/main.py\", line 80, in main\n",
            "    return command.main(cmd_args)\n",
            "           ^^^^^^^^^^^^^^^^^^^^^^\n",
            "  File \"/usr/local/lib/python3.12/dist-packages/pip/_internal/cli/base_command.py\", line 100, in main\n",
            "    return self._main(args)\n",
            "           ^^^^^^^^^^^^^^^^\n",
            "  File \"/usr/local/lib/python3.12/dist-packages/pip/_internal/cli/base_command.py\", line 232, in _main\n",
            "    return run(options, args)\n",
            "           ^^^^^^^^^^^^^^^^^^\n",
            "  File \"/usr/local/lib/python3.12/dist-packages/pip/_internal/cli/base_command.py\", line 215, in exc_logging_wrapper\n",
            "    logger.critical(\"Operation cancelled by user\")\n",
            "  File \"/usr/lib/python3.12/logging/__init__.py\", line 1586, in critical\n",
            "    self._log(CRITICAL, msg, args, **kwargs)\n",
            "  File \"/usr/lib/python3.12/logging/__init__.py\", line 1684, in _log\n",
            "    self.handle(record)\n",
            "  File \"/usr/lib/python3.12/logging/__init__.py\", line 1700, in handle\n",
            "    self.callHandlers(record)\n",
            "  File \"/usr/lib/python3.12/logging/__init__.py\", line 1762, in callHandlers\n",
            "    hdlr.handle(record)\n",
            "  File \"/usr/lib/python3.12/logging/__init__.py\", line 1028, in handle\n",
            "    self.emit(record)\n",
            "  File \"/usr/local/lib/python3.12/dist-packages/pip/_internal/utils/logging.py\", line 169, in emit\n",
            "    renderable = self.render_message(record, message)\n",
            "                 ^^^^^^^^^^^^^^^^^^^^^^^^^^^^^^^^^^^^\n",
            "  File \"/usr/local/lib/python3.12/dist-packages/pip/_vendor/rich/logging.py\", line 189, in render_message\n",
            "    message_text = highlighter(message_text)\n",
            "                   ^^^^^^^^^^^^^^^^^^^^^^^^^\n",
            "  File \"/usr/local/lib/python3.12/dist-packages/pip/_vendor/rich/highlighter.py\", line 35, in __call__\n",
            "    highlight_text = text.copy()\n",
            "                     ^^^^^^^^^^^\n",
            "  File \"/usr/local/lib/python3.12/dist-packages/pip/_vendor/rich/text.py\", line 444, in copy\n",
            "    copy_self = Text(\n",
            "                ^^^^^\n",
            "  File \"/usr/local/lib/python3.12/dist-packages/pip/_vendor/rich/text.py\", line 155, in __init__\n",
            "    sanitized_text = strip_control_codes(text)\n",
            "                     ^^^^^^^^^^^^^^^^^^^^^^^^^\n",
            "  File \"/usr/local/lib/python3.12/dist-packages/pip/_vendor/rich/control.py\", line 198, in strip_control_codes\n",
            "    return text.translate(_translate_table)\n",
            "           ^^^^^^^^^^^^^^^^^^^^^^^^^^^^^^^^\n",
            "KeyboardInterrupt\n",
            "^C\n"
          ]
        }
      ]
    },
    {
      "cell_type": "code",
      "execution_count": 3,
      "id": "599a204a-ae03-44a2-ad3c-84e45562c535",
      "metadata": {
        "id": "599a204a-ae03-44a2-ad3c-84e45562c535"
      },
      "outputs": [],
      "source": [
        "# import library yang dibutuhkan di sini\n",
        "import pandas as pd\n",
        "import numpy as np\n",
        "import matplotlib.pyplot as plt\n",
        "import seaborn as sns\n",
        "from sklearn.model_selection import train_test_split, cross_val_score, KFold\n",
        "from sklearn.ensemble import RandomForestClassifier\n",
        "from sklearn.metrics import accuracy_score, precision_score, recall_score, f1_score, classification_report\n",
        "import optuna"
      ]
    },
    {
      "cell_type": "code",
      "source": [
        "df = sns.load_dataset('iris')\n",
        "df.head()"
      ],
      "metadata": {
        "colab": {
          "base_uri": "https://localhost:8080/",
          "height": 206
        },
        "id": "7hX1QGoD6HRA",
        "outputId": "482cc474-49ec-4a94-b914-2bee8fb46b4f"
      },
      "id": "7hX1QGoD6HRA",
      "execution_count": null,
      "outputs": [
        {
          "output_type": "execute_result",
          "data": {
            "text/plain": [
              "   sepal_length  sepal_width  petal_length  petal_width species\n",
              "0           5.1          3.5           1.4          0.2  setosa\n",
              "1           4.9          3.0           1.4          0.2  setosa\n",
              "2           4.7          3.2           1.3          0.2  setosa\n",
              "3           4.6          3.1           1.5          0.2  setosa\n",
              "4           5.0          3.6           1.4          0.2  setosa"
            ],
            "text/html": [
              "\n",
              "  <div id=\"df-6f950481-3733-4609-9b90-6cde437ca9ff\" class=\"colab-df-container\">\n",
              "    <div>\n",
              "<style scoped>\n",
              "    .dataframe tbody tr th:only-of-type {\n",
              "        vertical-align: middle;\n",
              "    }\n",
              "\n",
              "    .dataframe tbody tr th {\n",
              "        vertical-align: top;\n",
              "    }\n",
              "\n",
              "    .dataframe thead th {\n",
              "        text-align: right;\n",
              "    }\n",
              "</style>\n",
              "<table border=\"1\" class=\"dataframe\">\n",
              "  <thead>\n",
              "    <tr style=\"text-align: right;\">\n",
              "      <th></th>\n",
              "      <th>sepal_length</th>\n",
              "      <th>sepal_width</th>\n",
              "      <th>petal_length</th>\n",
              "      <th>petal_width</th>\n",
              "      <th>species</th>\n",
              "    </tr>\n",
              "  </thead>\n",
              "  <tbody>\n",
              "    <tr>\n",
              "      <th>0</th>\n",
              "      <td>5.1</td>\n",
              "      <td>3.5</td>\n",
              "      <td>1.4</td>\n",
              "      <td>0.2</td>\n",
              "      <td>setosa</td>\n",
              "    </tr>\n",
              "    <tr>\n",
              "      <th>1</th>\n",
              "      <td>4.9</td>\n",
              "      <td>3.0</td>\n",
              "      <td>1.4</td>\n",
              "      <td>0.2</td>\n",
              "      <td>setosa</td>\n",
              "    </tr>\n",
              "    <tr>\n",
              "      <th>2</th>\n",
              "      <td>4.7</td>\n",
              "      <td>3.2</td>\n",
              "      <td>1.3</td>\n",
              "      <td>0.2</td>\n",
              "      <td>setosa</td>\n",
              "    </tr>\n",
              "    <tr>\n",
              "      <th>3</th>\n",
              "      <td>4.6</td>\n",
              "      <td>3.1</td>\n",
              "      <td>1.5</td>\n",
              "      <td>0.2</td>\n",
              "      <td>setosa</td>\n",
              "    </tr>\n",
              "    <tr>\n",
              "      <th>4</th>\n",
              "      <td>5.0</td>\n",
              "      <td>3.6</td>\n",
              "      <td>1.4</td>\n",
              "      <td>0.2</td>\n",
              "      <td>setosa</td>\n",
              "    </tr>\n",
              "  </tbody>\n",
              "</table>\n",
              "</div>\n",
              "    <div class=\"colab-df-buttons\">\n",
              "\n",
              "  <div class=\"colab-df-container\">\n",
              "    <button class=\"colab-df-convert\" onclick=\"convertToInteractive('df-6f950481-3733-4609-9b90-6cde437ca9ff')\"\n",
              "            title=\"Convert this dataframe to an interactive table.\"\n",
              "            style=\"display:none;\">\n",
              "\n",
              "  <svg xmlns=\"http://www.w3.org/2000/svg\" height=\"24px\" viewBox=\"0 -960 960 960\">\n",
              "    <path d=\"M120-120v-720h720v720H120Zm60-500h600v-160H180v160Zm220 220h160v-160H400v160Zm0 220h160v-160H400v160ZM180-400h160v-160H180v160Zm440 0h160v-160H620v160ZM180-180h160v-160H180v160Zm440 0h160v-160H620v160Z\"/>\n",
              "  </svg>\n",
              "    </button>\n",
              "\n",
              "  <style>\n",
              "    .colab-df-container {\n",
              "      display:flex;\n",
              "      gap: 12px;\n",
              "    }\n",
              "\n",
              "    .colab-df-convert {\n",
              "      background-color: #E8F0FE;\n",
              "      border: none;\n",
              "      border-radius: 50%;\n",
              "      cursor: pointer;\n",
              "      display: none;\n",
              "      fill: #1967D2;\n",
              "      height: 32px;\n",
              "      padding: 0 0 0 0;\n",
              "      width: 32px;\n",
              "    }\n",
              "\n",
              "    .colab-df-convert:hover {\n",
              "      background-color: #E2EBFA;\n",
              "      box-shadow: 0px 1px 2px rgba(60, 64, 67, 0.3), 0px 1px 3px 1px rgba(60, 64, 67, 0.15);\n",
              "      fill: #174EA6;\n",
              "    }\n",
              "\n",
              "    .colab-df-buttons div {\n",
              "      margin-bottom: 4px;\n",
              "    }\n",
              "\n",
              "    [theme=dark] .colab-df-convert {\n",
              "      background-color: #3B4455;\n",
              "      fill: #D2E3FC;\n",
              "    }\n",
              "\n",
              "    [theme=dark] .colab-df-convert:hover {\n",
              "      background-color: #434B5C;\n",
              "      box-shadow: 0px 1px 3px 1px rgba(0, 0, 0, 0.15);\n",
              "      filter: drop-shadow(0px 1px 2px rgba(0, 0, 0, 0.3));\n",
              "      fill: #FFFFFF;\n",
              "    }\n",
              "  </style>\n",
              "\n",
              "    <script>\n",
              "      const buttonEl =\n",
              "        document.querySelector('#df-6f950481-3733-4609-9b90-6cde437ca9ff button.colab-df-convert');\n",
              "      buttonEl.style.display =\n",
              "        google.colab.kernel.accessAllowed ? 'block' : 'none';\n",
              "\n",
              "      async function convertToInteractive(key) {\n",
              "        const element = document.querySelector('#df-6f950481-3733-4609-9b90-6cde437ca9ff');\n",
              "        const dataTable =\n",
              "          await google.colab.kernel.invokeFunction('convertToInteractive',\n",
              "                                                    [key], {});\n",
              "        if (!dataTable) return;\n",
              "\n",
              "        const docLinkHtml = 'Like what you see? Visit the ' +\n",
              "          '<a target=\"_blank\" href=https://colab.research.google.com/notebooks/data_table.ipynb>data table notebook</a>'\n",
              "          + ' to learn more about interactive tables.';\n",
              "        element.innerHTML = '';\n",
              "        dataTable['output_type'] = 'display_data';\n",
              "        await google.colab.output.renderOutput(dataTable, element);\n",
              "        const docLink = document.createElement('div');\n",
              "        docLink.innerHTML = docLinkHtml;\n",
              "        element.appendChild(docLink);\n",
              "      }\n",
              "    </script>\n",
              "  </div>\n",
              "\n",
              "\n",
              "    <div id=\"df-ed019471-6937-4ef2-931a-707b6d19f789\">\n",
              "      <button class=\"colab-df-quickchart\" onclick=\"quickchart('df-ed019471-6937-4ef2-931a-707b6d19f789')\"\n",
              "                title=\"Suggest charts\"\n",
              "                style=\"display:none;\">\n",
              "\n",
              "<svg xmlns=\"http://www.w3.org/2000/svg\" height=\"24px\"viewBox=\"0 0 24 24\"\n",
              "     width=\"24px\">\n",
              "    <g>\n",
              "        <path d=\"M19 3H5c-1.1 0-2 .9-2 2v14c0 1.1.9 2 2 2h14c1.1 0 2-.9 2-2V5c0-1.1-.9-2-2-2zM9 17H7v-7h2v7zm4 0h-2V7h2v10zm4 0h-2v-4h2v4z\"/>\n",
              "    </g>\n",
              "</svg>\n",
              "      </button>\n",
              "\n",
              "<style>\n",
              "  .colab-df-quickchart {\n",
              "      --bg-color: #E8F0FE;\n",
              "      --fill-color: #1967D2;\n",
              "      --hover-bg-color: #E2EBFA;\n",
              "      --hover-fill-color: #174EA6;\n",
              "      --disabled-fill-color: #AAA;\n",
              "      --disabled-bg-color: #DDD;\n",
              "  }\n",
              "\n",
              "  [theme=dark] .colab-df-quickchart {\n",
              "      --bg-color: #3B4455;\n",
              "      --fill-color: #D2E3FC;\n",
              "      --hover-bg-color: #434B5C;\n",
              "      --hover-fill-color: #FFFFFF;\n",
              "      --disabled-bg-color: #3B4455;\n",
              "      --disabled-fill-color: #666;\n",
              "  }\n",
              "\n",
              "  .colab-df-quickchart {\n",
              "    background-color: var(--bg-color);\n",
              "    border: none;\n",
              "    border-radius: 50%;\n",
              "    cursor: pointer;\n",
              "    display: none;\n",
              "    fill: var(--fill-color);\n",
              "    height: 32px;\n",
              "    padding: 0;\n",
              "    width: 32px;\n",
              "  }\n",
              "\n",
              "  .colab-df-quickchart:hover {\n",
              "    background-color: var(--hover-bg-color);\n",
              "    box-shadow: 0 1px 2px rgba(60, 64, 67, 0.3), 0 1px 3px 1px rgba(60, 64, 67, 0.15);\n",
              "    fill: var(--button-hover-fill-color);\n",
              "  }\n",
              "\n",
              "  .colab-df-quickchart-complete:disabled,\n",
              "  .colab-df-quickchart-complete:disabled:hover {\n",
              "    background-color: var(--disabled-bg-color);\n",
              "    fill: var(--disabled-fill-color);\n",
              "    box-shadow: none;\n",
              "  }\n",
              "\n",
              "  .colab-df-spinner {\n",
              "    border: 2px solid var(--fill-color);\n",
              "    border-color: transparent;\n",
              "    border-bottom-color: var(--fill-color);\n",
              "    animation:\n",
              "      spin 1s steps(1) infinite;\n",
              "  }\n",
              "\n",
              "  @keyframes spin {\n",
              "    0% {\n",
              "      border-color: transparent;\n",
              "      border-bottom-color: var(--fill-color);\n",
              "      border-left-color: var(--fill-color);\n",
              "    }\n",
              "    20% {\n",
              "      border-color: transparent;\n",
              "      border-left-color: var(--fill-color);\n",
              "      border-top-color: var(--fill-color);\n",
              "    }\n",
              "    30% {\n",
              "      border-color: transparent;\n",
              "      border-left-color: var(--fill-color);\n",
              "      border-top-color: var(--fill-color);\n",
              "      border-right-color: var(--fill-color);\n",
              "    }\n",
              "    40% {\n",
              "      border-color: transparent;\n",
              "      border-right-color: var(--fill-color);\n",
              "      border-top-color: var(--fill-color);\n",
              "    }\n",
              "    60% {\n",
              "      border-color: transparent;\n",
              "      border-right-color: var(--fill-color);\n",
              "    }\n",
              "    80% {\n",
              "      border-color: transparent;\n",
              "      border-right-color: var(--fill-color);\n",
              "      border-bottom-color: var(--fill-color);\n",
              "    }\n",
              "    90% {\n",
              "      border-color: transparent;\n",
              "      border-bottom-color: var(--fill-color);\n",
              "    }\n",
              "  }\n",
              "</style>\n",
              "\n",
              "      <script>\n",
              "        async function quickchart(key) {\n",
              "          const quickchartButtonEl =\n",
              "            document.querySelector('#' + key + ' button');\n",
              "          quickchartButtonEl.disabled = true;  // To prevent multiple clicks.\n",
              "          quickchartButtonEl.classList.add('colab-df-spinner');\n",
              "          try {\n",
              "            const charts = await google.colab.kernel.invokeFunction(\n",
              "                'suggestCharts', [key], {});\n",
              "          } catch (error) {\n",
              "            console.error('Error during call to suggestCharts:', error);\n",
              "          }\n",
              "          quickchartButtonEl.classList.remove('colab-df-spinner');\n",
              "          quickchartButtonEl.classList.add('colab-df-quickchart-complete');\n",
              "        }\n",
              "        (() => {\n",
              "          let quickchartButtonEl =\n",
              "            document.querySelector('#df-ed019471-6937-4ef2-931a-707b6d19f789 button');\n",
              "          quickchartButtonEl.style.display =\n",
              "            google.colab.kernel.accessAllowed ? 'block' : 'none';\n",
              "        })();\n",
              "      </script>\n",
              "    </div>\n",
              "\n",
              "    </div>\n",
              "  </div>\n"
            ],
            "application/vnd.google.colaboratory.intrinsic+json": {
              "type": "dataframe",
              "variable_name": "df",
              "summary": "{\n  \"name\": \"df\",\n  \"rows\": 150,\n  \"fields\": [\n    {\n      \"column\": \"sepal_length\",\n      \"properties\": {\n        \"dtype\": \"number\",\n        \"std\": 0.8280661279778629,\n        \"min\": 4.3,\n        \"max\": 7.9,\n        \"num_unique_values\": 35,\n        \"samples\": [\n          6.2,\n          4.5,\n          5.6\n        ],\n        \"semantic_type\": \"\",\n        \"description\": \"\"\n      }\n    },\n    {\n      \"column\": \"sepal_width\",\n      \"properties\": {\n        \"dtype\": \"number\",\n        \"std\": 0.435866284936698,\n        \"min\": 2.0,\n        \"max\": 4.4,\n        \"num_unique_values\": 23,\n        \"samples\": [\n          2.3,\n          4.0,\n          3.5\n        ],\n        \"semantic_type\": \"\",\n        \"description\": \"\"\n      }\n    },\n    {\n      \"column\": \"petal_length\",\n      \"properties\": {\n        \"dtype\": \"number\",\n        \"std\": 1.7652982332594667,\n        \"min\": 1.0,\n        \"max\": 6.9,\n        \"num_unique_values\": 43,\n        \"samples\": [\n          6.7,\n          3.8,\n          3.7\n        ],\n        \"semantic_type\": \"\",\n        \"description\": \"\"\n      }\n    },\n    {\n      \"column\": \"petal_width\",\n      \"properties\": {\n        \"dtype\": \"number\",\n        \"std\": 0.7622376689603465,\n        \"min\": 0.1,\n        \"max\": 2.5,\n        \"num_unique_values\": 22,\n        \"samples\": [\n          0.2,\n          1.2,\n          1.3\n        ],\n        \"semantic_type\": \"\",\n        \"description\": \"\"\n      }\n    },\n    {\n      \"column\": \"species\",\n      \"properties\": {\n        \"dtype\": \"category\",\n        \"num_unique_values\": 3,\n        \"samples\": [\n          \"setosa\",\n          \"versicolor\",\n          \"virginica\"\n        ],\n        \"semantic_type\": \"\",\n        \"description\": \"\"\n      }\n    }\n  ]\n}"
            }
          },
          "metadata": {},
          "execution_count": 3
        }
      ]
    },
    {
      "cell_type": "markdown",
      "id": "e7d4f7f9-6710-49fa-b2cc-6203f8d44b1b",
      "metadata": {
        "id": "e7d4f7f9-6710-49fa-b2cc-6203f8d44b1b"
      },
      "source": [
        "# Data Preprocessing"
      ]
    },
    {
      "cell_type": "code",
      "source": [
        "# ubah variabel kategorik ke numerik\n",
        "# Add code here to convert categorical variables to numerical"
      ],
      "metadata": {
        "id": "jf-HfsR-9W-7"
      },
      "id": "jf-HfsR-9W-7",
      "execution_count": 12,
      "outputs": []
    },
    {
      "cell_type": "code",
      "execution_count": null,
      "id": "ff2683bf-e81d-4642-a2dd-b56eec436f67",
      "metadata": {
        "id": "ff2683bf-e81d-4642-a2dd-b56eec436f67"
      },
      "outputs": [],
      "source": [
        "# subsetting peubah\n",
        "X = df.drop(['species'], axis=1)\n",
        "y = df['species']"
      ]
    },
    {
      "cell_type": "markdown",
      "id": "613a4b6d-2978-4d2e-a91d-0e562fdbdcd4",
      "metadata": {
        "id": "613a4b6d-2978-4d2e-a91d-0e562fdbdcd4"
      },
      "source": [
        "# Dataset Splitting"
      ]
    },
    {
      "cell_type": "code",
      "execution_count": 6,
      "id": "4cf8cc4c-a3fa-4e20-bb9f-7ddf7600b4e7",
      "metadata": {
        "id": "4cf8cc4c-a3fa-4e20-bb9f-7ddf7600b4e7",
        "colab": {
          "base_uri": "https://localhost:8080/",
          "height": 158
        },
        "outputId": "185ff127-bb3b-4f2a-9195-f9f07fdb09ba"
      },
      "outputs": [
        {
          "output_type": "error",
          "ename": "NameError",
          "evalue": "name 'X' is not defined",
          "traceback": [
            "\u001b[0;31m---------------------------------------------------------------------------\u001b[0m",
            "\u001b[0;31mNameError\u001b[0m                                 Traceback (most recent call last)",
            "\u001b[0;32m/tmp/ipython-input-3060737034.py\u001b[0m in \u001b[0;36m<cell line: 0>\u001b[0;34m()\u001b[0m\n\u001b[1;32m      1\u001b[0m \u001b[0;31m# split dengan rasio 80:20\u001b[0m\u001b[0;34m\u001b[0m\u001b[0;34m\u001b[0m\u001b[0m\n\u001b[0;32m----> 2\u001b[0;31m \u001b[0mX_train\u001b[0m\u001b[0;34m,\u001b[0m \u001b[0mX_test\u001b[0m\u001b[0;34m,\u001b[0m \u001b[0my_train\u001b[0m\u001b[0;34m,\u001b[0m \u001b[0my_test\u001b[0m \u001b[0;34m=\u001b[0m \u001b[0mtrain_test_split\u001b[0m\u001b[0;34m(\u001b[0m\u001b[0mX\u001b[0m\u001b[0;34m,\u001b[0m \u001b[0my\u001b[0m\u001b[0;34m,\u001b[0m \u001b[0mtest_size\u001b[0m\u001b[0;34m=\u001b[0m\u001b[0;36m0.2\u001b[0m\u001b[0;34m,\u001b[0m \u001b[0mrandom_state\u001b[0m\u001b[0;34m=\u001b[0m\u001b[0;36m42\u001b[0m\u001b[0;34m)\u001b[0m\u001b[0;34m\u001b[0m\u001b[0;34m\u001b[0m\u001b[0m\n\u001b[0m",
            "\u001b[0;31mNameError\u001b[0m: name 'X' is not defined"
          ]
        }
      ],
      "source": [
        "# split dengan rasio 80:20\n",
        "X_train, X_test, y_train, y_test = train_test_split(X, y, test_size=0.2, random_state=42)"
      ]
    },
    {
      "cell_type": "markdown",
      "id": "ba864b86-6e12-4eb3-8193-460a48f29a03",
      "metadata": {
        "id": "ba864b86-6e12-4eb3-8193-460a48f29a03"
      },
      "source": [
        "# Base Model Random Forest"
      ]
    },
    {
      "cell_type": "code",
      "execution_count": 7,
      "id": "597f4149-97a4-4981-833c-3d0ac122594b",
      "metadata": {
        "id": "597f4149-97a4-4981-833c-3d0ac122594b",
        "outputId": "f2bf9c33-fc75-4fc5-fdb2-15cc4c092676",
        "colab": {
          "base_uri": "https://localhost:8080/",
          "height": 176
        }
      },
      "outputs": [
        {
          "output_type": "error",
          "ename": "NameError",
          "evalue": "name 'X_train' is not defined",
          "traceback": [
            "\u001b[0;31m---------------------------------------------------------------------------\u001b[0m",
            "\u001b[0;31mNameError\u001b[0m                                 Traceback (most recent call last)",
            "\u001b[0;32m/tmp/ipython-input-1620981027.py\u001b[0m in \u001b[0;36m<cell line: 0>\u001b[0;34m()\u001b[0m\n\u001b[1;32m      1\u001b[0m \u001b[0;31m# gunakan random forest classifier\u001b[0m\u001b[0;34m\u001b[0m\u001b[0;34m\u001b[0m\u001b[0m\n\u001b[1;32m      2\u001b[0m \u001b[0mrfr\u001b[0m \u001b[0;34m=\u001b[0m \u001b[0mRandomForestClassifier\u001b[0m\u001b[0;34m(\u001b[0m\u001b[0;34m)\u001b[0m\u001b[0;34m\u001b[0m\u001b[0;34m\u001b[0m\u001b[0m\n\u001b[0;32m----> 3\u001b[0;31m \u001b[0mrfr\u001b[0m\u001b[0;34m.\u001b[0m\u001b[0mfit\u001b[0m\u001b[0;34m(\u001b[0m\u001b[0mX_train\u001b[0m\u001b[0;34m,\u001b[0m \u001b[0my_train\u001b[0m\u001b[0;34m)\u001b[0m\u001b[0;34m\u001b[0m\u001b[0;34m\u001b[0m\u001b[0m\n\u001b[0m",
            "\u001b[0;31mNameError\u001b[0m: name 'X_train' is not defined"
          ]
        }
      ],
      "source": [
        "# gunakan random forest classifier\n",
        "rfr = RandomForestClassifier()\n",
        "rfr.fit(X_train, y_train)"
      ]
    },
    {
      "cell_type": "code",
      "execution_count": null,
      "id": "84618159-62e1-43ea-ad52-9e0d971cbc34",
      "metadata": {
        "id": "84618159-62e1-43ea-ad52-9e0d971cbc34"
      },
      "outputs": [],
      "source": [
        "y_pred = rfr.predict(X_test)"
      ]
    },
    {
      "cell_type": "code",
      "source": [
        "print(f\"Accuracy: {accuracy_score(y_test, y_pred):.3f}\")\n",
        "print(f\"Precision: {precision_score(y_test, y_pred, average='weighted'):.3f}\")\n",
        "print(f\"Recall: {recall_score(y_test, y_pred, average='weighted'):.3f}\")\n",
        "print(f\"F1 Score: {f1_score(y_test, y_pred, average='weighted'):.3f}\")\n",
        "print(classification_report(y_test, y_pred))"
      ],
      "metadata": {
        "colab": {
          "base_uri": "https://localhost:8080/"
        },
        "id": "9GiVMFL0DDI1",
        "outputId": "e0380e5d-07b7-4d48-a7dc-94898ad084c5"
      },
      "id": "9GiVMFL0DDI1",
      "execution_count": null,
      "outputs": [
        {
          "output_type": "stream",
          "name": "stdout",
          "text": [
            "Accuracy: 0.967\n",
            "Precision: 0.970\n",
            "Recall: 0.967\n",
            "F1 Score: 0.967\n",
            "              precision    recall  f1-score   support\n",
            "\n",
            "           0       1.00      1.00      1.00        10\n",
            "           1       0.89      1.00      0.94         8\n",
            "           2       1.00      0.92      0.96        12\n",
            "\n",
            "    accuracy                           0.97        30\n",
            "   macro avg       0.96      0.97      0.97        30\n",
            "weighted avg       0.97      0.97      0.97        30\n",
            "\n"
          ]
        }
      ]
    },
    {
      "cell_type": "markdown",
      "id": "8a836fe2-f63f-4f10-9a02-0153e0b30eb1",
      "metadata": {
        "id": "8a836fe2-f63f-4f10-9a02-0153e0b30eb1"
      },
      "source": [
        "# Optuna"
      ]
    },
    {
      "cell_type": "code",
      "execution_count": 15,
      "id": "6795b9e8-2008-4fea-a4bc-0ed04e8840a7",
      "metadata": {
        "id": "6795b9e8-2008-4fea-a4bc-0ed04e8840a7"
      },
      "outputs": [],
      "source": [
        "def objective(trial):\n",
        "    # Define the hyperparameters to tune\n",
        "    # For example, for RandomForestClassifier:\n",
        "    # n_estimators = trial.suggest_int('n_estimators', 10, 1000)\n",
        "    # max_depth = trial.suggest_int('max_depth', 2, 32, log=True)\n",
        "    # min_samples_split = trial.suggest_int('min_samples_split', 2, 20)\n",
        "    # min_samples_leaf = trial.suggest_int('min_samples_leaf', 1, 20)\n",
        "\n",
        "    # Create and train your model with the suggested hyperparameters\n",
        "    # model = RandomForestClassifier(n_estimators=n_estimators, max_depth=max_depth, ...)\n",
        "    # model.fit(X_train, y_train)\n",
        "\n",
        "    # Evaluate the model (e.g., using cross-validation)\n",
        "    # score = cross_val_score(model, X_train, y_train, cv=KFold(n_splits=5), scoring='accuracy')\n",
        "\n",
        "    # Return the score you want to minimize or maximize\n",
        "    # return score.mean()\n",
        "\n",
        "    # Placeholder - replace with your model training and evaluation logic\n",
        "    pass"
      ]
    },
    {
      "cell_type": "markdown",
      "id": "c09964a0-4135-4c5b-99c4-baf6e50651c6",
      "metadata": {
        "id": "c09964a0-4135-4c5b-99c4-baf6e50651c6"
      },
      "source": [
        "Hyperparameter dapat disesuaikan dengan algoritma yang digunakan. Kali ini kita menggunakan Random Forest sehingga yang dapat kita select adalah *n_estimators, max_depth, min_samples_split,* dan *min_samples_leaf*"
      ]
    },
    {
      "cell_type": "code",
      "execution_count": null,
      "id": "391f8db9-edba-491d-9b5a-28ccd91089b9",
      "metadata": {
        "id": "391f8db9-edba-491d-9b5a-28ccd91089b9",
        "outputId": "7e314894-96ca-4f28-e34c-6c998621de98",
        "colab": {
          "base_uri": "https://localhost:8080/"
        }
      },
      "outputs": [
        {
          "output_type": "stream",
          "name": "stderr",
          "text": [
            "[I 2025-07-21 08:16:58,098] A new study created in memory with name: no-name-b4b951e6-2c99-438e-b5fe-b4650ad94491\n"
          ]
        }
      ],
      "source": [
        "study = ..."
      ]
    },
    {
      "cell_type": "code",
      "execution_count": null,
      "id": "89bbc84f-cffc-4eda-85bb-e6f92399e512",
      "metadata": {
        "scrolled": true,
        "id": "89bbc84f-cffc-4eda-85bb-e6f92399e512",
        "outputId": "2caa6725-0b4a-4140-d855-2a459091126d",
        "colab": {
          "base_uri": "https://localhost:8080/"
        }
      },
      "outputs": [
        {
          "output_type": "stream",
          "name": "stderr",
          "text": [
            "[I 2025-07-21 08:17:07,188] Trial 0 finished with value: -0.24166666666666664 and parameters: {'n_estimators': 366, 'max_depth': 43, 'min_samples_split': 12, 'min_samples_leaf': 26}. Best is trial 0 with value: -0.24166666666666664.\n",
            "[I 2025-07-21 08:17:17,360] Trial 1 finished with value: -0.05 and parameters: {'n_estimators': 605, 'max_depth': 20, 'min_samples_split': 5, 'min_samples_leaf': 2}. Best is trial 1 with value: -0.05.\n",
            "[I 2025-07-21 08:17:27,348] Trial 2 finished with value: -0.23333333333333334 and parameters: {'n_estimators': 706, 'max_depth': 38, 'min_samples_split': 24, 'min_samples_leaf': 26}. Best is trial 1 with value: -0.05.\n",
            "[I 2025-07-21 08:17:28,644] Trial 3 finished with value: -0.05 and parameters: {'n_estimators': 168, 'max_depth': 23, 'min_samples_split': 24, 'min_samples_leaf': 11}. Best is trial 1 with value: -0.05.\n",
            "[I 2025-07-21 08:17:32,190] Trial 4 finished with value: -0.03333333333333333 and parameters: {'n_estimators': 523, 'max_depth': 17, 'min_samples_split': 12, 'min_samples_leaf': 15}. Best is trial 4 with value: -0.03333333333333333.\n",
            "[I 2025-07-21 08:17:36,037] Trial 5 finished with value: -0.1 and parameters: {'n_estimators': 577, 'max_depth': 22, 'min_samples_split': 10, 'min_samples_leaf': 22}. Best is trial 4 with value: -0.03333333333333333.\n",
            "[I 2025-07-21 08:17:38,546] Trial 6 finished with value: -0.041666666666666664 and parameters: {'n_estimators': 310, 'max_depth': 37, 'min_samples_split': 15, 'min_samples_leaf': 13}. Best is trial 4 with value: -0.03333333333333333.\n",
            "[I 2025-07-21 08:17:42,440] Trial 7 finished with value: -0.041666666666666664 and parameters: {'n_estimators': 402, 'max_depth': 31, 'min_samples_split': 32, 'min_samples_leaf': 17}. Best is trial 4 with value: -0.03333333333333333.\n",
            "[I 2025-07-21 08:17:47,725] Trial 8 finished with value: -0.125 and parameters: {'n_estimators': 713, 'max_depth': 26, 'min_samples_split': 5, 'min_samples_leaf': 23}. Best is trial 4 with value: -0.03333333333333333.\n",
            "[I 2025-07-21 08:17:50,985] Trial 9 finished with value: -0.05 and parameters: {'n_estimators': 472, 'max_depth': 28, 'min_samples_split': 12, 'min_samples_leaf': 3}. Best is trial 4 with value: -0.03333333333333333.\n",
            "[I 2025-07-21 08:17:56,052] Trial 10 finished with value: -0.041666666666666664 and parameters: {'n_estimators': 512, 'max_depth': 43, 'min_samples_split': 7, 'min_samples_leaf': 15}. Best is trial 4 with value: -0.03333333333333333.\n",
            "[I 2025-07-21 08:17:57,938] Trial 11 finished with value: -0.05 and parameters: {'n_estimators': 272, 'max_depth': 13, 'min_samples_split': 2, 'min_samples_leaf': 5}. Best is trial 4 with value: -0.03333333333333333.\n",
            "[I 2025-07-21 08:18:00,189] Trial 12 finished with value: -0.041666666666666664 and parameters: {'n_estimators': 331, 'max_depth': 12, 'min_samples_split': 30, 'min_samples_leaf': 18}. Best is trial 4 with value: -0.03333333333333333.\n",
            "[I 2025-07-21 08:18:07,674] Trial 13 finished with value: -0.041666666666666664 and parameters: {'n_estimators': 971, 'max_depth': 46, 'min_samples_split': 14, 'min_samples_leaf': 13}. Best is trial 4 with value: -0.03333333333333333.\n",
            "[I 2025-07-21 08:18:12,911] Trial 14 finished with value: -0.041666666666666664 and parameters: {'n_estimators': 687, 'max_depth': 45, 'min_samples_split': 15, 'min_samples_leaf': 18}. Best is trial 4 with value: -0.03333333333333333.\n",
            "[I 2025-07-21 08:18:14,554] Trial 15 finished with value: -0.3 and parameters: {'n_estimators': 246, 'max_depth': 32, 'min_samples_split': 5, 'min_samples_leaf': 31}. Best is trial 4 with value: -0.03333333333333333.\n",
            "[I 2025-07-21 08:18:22,463] Trial 16 finished with value: -0.041666666666666664 and parameters: {'n_estimators': 985, 'max_depth': 22, 'min_samples_split': 25, 'min_samples_leaf': 10}. Best is trial 4 with value: -0.03333333333333333.\n",
            "[I 2025-07-21 08:18:29,359] Trial 17 finished with value: -0.041666666666666664 and parameters: {'n_estimators': 981, 'max_depth': 21, 'min_samples_split': 22, 'min_samples_leaf': 14}. Best is trial 4 with value: -0.03333333333333333.\n",
            "[I 2025-07-21 08:18:32,527] Trial 18 finished with value: -0.05 and parameters: {'n_estimators': 464, 'max_depth': 33, 'min_samples_split': 20, 'min_samples_leaf': 2}. Best is trial 4 with value: -0.03333333333333333.\n",
            "[I 2025-07-21 08:18:37,300] Trial 19 finished with value: -0.09999999999999999 and parameters: {'n_estimators': 479, 'max_depth': 38, 'min_samples_split': 2, 'min_samples_leaf': 23}. Best is trial 4 with value: -0.03333333333333333.\n",
            "[I 2025-07-21 08:18:39,571] Trial 20 finished with value: -0.05 and parameters: {'n_estimators': 333, 'max_depth': 31, 'min_samples_split': 18, 'min_samples_leaf': 12}. Best is trial 4 with value: -0.03333333333333333.\n",
            "[I 2025-07-21 08:18:42,745] Trial 21 finished with value: -0.05 and parameters: {'n_estimators': 462, 'max_depth': 12, 'min_samples_split': 9, 'min_samples_leaf': 1}. Best is trial 4 with value: -0.03333333333333333.\n",
            "[I 2025-07-21 08:18:44,618] Trial 22 finished with value: -0.23333333333333334 and parameters: {'n_estimators': 275, 'max_depth': 14, 'min_samples_split': 15, 'min_samples_leaf': 25}. Best is trial 4 with value: -0.03333333333333333.\n",
            "[I 2025-07-21 08:18:51,139] Trial 23 finished with value: -0.1 and parameters: {'n_estimators': 747, 'max_depth': 35, 'min_samples_split': 10, 'min_samples_leaf': 22}. Best is trial 4 with value: -0.03333333333333333.\n",
            "[I 2025-07-21 08:18:52,992] Trial 24 finished with value: -0.05833333333333333 and parameters: {'n_estimators': 270, 'max_depth': 39, 'min_samples_split': 21, 'min_samples_leaf': 20}. Best is trial 4 with value: -0.03333333333333333.\n",
            "[I 2025-07-21 08:18:58,975] Trial 25 finished with value: -0.06666666666666667 and parameters: {'n_estimators': 722, 'max_depth': 32, 'min_samples_split': 20, 'min_samples_leaf': 20}. Best is trial 4 with value: -0.03333333333333333.\n",
            "[I 2025-07-21 08:19:02,038] Trial 26 finished with value: -0.3 and parameters: {'n_estimators': 376, 'max_depth': 45, 'min_samples_split': 4, 'min_samples_leaf': 28}. Best is trial 4 with value: -0.03333333333333333.\n",
            "[I 2025-07-21 08:19:07,099] Trial 27 finished with value: -0.06666666666666667 and parameters: {'n_estimators': 609, 'max_depth': 19, 'min_samples_split': 29, 'min_samples_leaf': 19}. Best is trial 4 with value: -0.03333333333333333.\n",
            "[I 2025-07-21 08:19:08,211] Trial 28 finished with value: -0.041666666666666664 and parameters: {'n_estimators': 161, 'max_depth': 43, 'min_samples_split': 29, 'min_samples_leaf': 14}. Best is trial 4 with value: -0.03333333333333333.\n",
            "[I 2025-07-21 08:19:12,250] Trial 29 finished with value: -0.1 and parameters: {'n_estimators': 597, 'max_depth': 35, 'min_samples_split': 32, 'min_samples_leaf': 22}. Best is trial 4 with value: -0.03333333333333333.\n",
            "[I 2025-07-21 08:19:16,401] Trial 30 finished with value: -0.05 and parameters: {'n_estimators': 502, 'max_depth': 19, 'min_samples_split': 29, 'min_samples_leaf': 9}. Best is trial 4 with value: -0.03333333333333333.\n",
            "[I 2025-07-21 08:19:18,367] Trial 31 finished with value: -0.05 and parameters: {'n_estimators': 181, 'max_depth': 37, 'min_samples_split': 3, 'min_samples_leaf': 11}. Best is trial 4 with value: -0.03333333333333333.\n",
            "[I 2025-07-21 08:19:21,664] Trial 32 finished with value: -0.15833333333333333 and parameters: {'n_estimators': 491, 'max_depth': 46, 'min_samples_split': 15, 'min_samples_leaf': 24}. Best is trial 4 with value: -0.03333333333333333.\n",
            "[I 2025-07-21 08:19:24,929] Trial 33 finished with value: -0.05 and parameters: {'n_estimators': 477, 'max_depth': 28, 'min_samples_split': 25, 'min_samples_leaf': 10}. Best is trial 4 with value: -0.03333333333333333.\n",
            "[I 2025-07-21 08:19:29,752] Trial 34 finished with value: -0.05 and parameters: {'n_estimators': 616, 'max_depth': 36, 'min_samples_split': 23, 'min_samples_leaf': 3}. Best is trial 4 with value: -0.03333333333333333.\n",
            "[I 2025-07-21 08:19:34,372] Trial 35 finished with value: -0.041666666666666664 and parameters: {'n_estimators': 556, 'max_depth': 25, 'min_samples_split': 15, 'min_samples_leaf': 13}. Best is trial 4 with value: -0.03333333333333333.\n",
            "[I 2025-07-21 08:19:36,196] Trial 36 finished with value: -0.23333333333333334 and parameters: {'n_estimators': 271, 'max_depth': 45, 'min_samples_split': 16, 'min_samples_leaf': 26}. Best is trial 4 with value: -0.03333333333333333.\n",
            "[I 2025-07-21 08:19:40,465] Trial 37 finished with value: -0.30833333333333335 and parameters: {'n_estimators': 636, 'max_depth': 24, 'min_samples_split': 23, 'min_samples_leaf': 28}. Best is trial 4 with value: -0.03333333333333333.\n",
            "[I 2025-07-21 08:19:41,935] Trial 38 finished with value: -0.03333333333333333 and parameters: {'n_estimators': 209, 'max_depth': 41, 'min_samples_split': 18, 'min_samples_leaf': 18}. Best is trial 4 with value: -0.03333333333333333.\n",
            "[I 2025-07-21 08:19:49,499] Trial 39 finished with value: -0.041666666666666664 and parameters: {'n_estimators': 891, 'max_depth': 28, 'min_samples_split': 7, 'min_samples_leaf': 16}. Best is trial 4 with value: -0.03333333333333333.\n",
            "[I 2025-07-21 08:19:50,740] Trial 40 finished with value: -0.30833333333333335 and parameters: {'n_estimators': 183, 'max_depth': 29, 'min_samples_split': 23, 'min_samples_leaf': 29}. Best is trial 4 with value: -0.03333333333333333.\n",
            "[I 2025-07-21 08:19:53,365] Trial 41 finished with value: -0.41666666666666663 and parameters: {'n_estimators': 395, 'max_depth': 21, 'min_samples_split': 6, 'min_samples_leaf': 32}. Best is trial 4 with value: -0.03333333333333333.\n",
            "[I 2025-07-21 08:19:59,842] Trial 42 finished with value: -0.05 and parameters: {'n_estimators': 733, 'max_depth': 41, 'min_samples_split': 12, 'min_samples_leaf': 7}. Best is trial 4 with value: -0.03333333333333333.\n",
            "[I 2025-07-21 08:20:01,326] Trial 43 finished with value: -0.041666666666666664 and parameters: {'n_estimators': 215, 'max_depth': 34, 'min_samples_split': 31, 'min_samples_leaf': 7}. Best is trial 4 with value: -0.03333333333333333.\n",
            "[I 2025-07-21 08:20:07,904] Trial 44 finished with value: -0.05 and parameters: {'n_estimators': 961, 'max_depth': 30, 'min_samples_split': 4, 'min_samples_leaf': 2}. Best is trial 4 with value: -0.03333333333333333.\n",
            "[I 2025-07-21 08:20:15,378] Trial 45 finished with value: -0.041666666666666664 and parameters: {'n_estimators': 871, 'max_depth': 26, 'min_samples_split': 30, 'min_samples_leaf': 18}. Best is trial 4 with value: -0.03333333333333333.\n",
            "[I 2025-07-21 08:20:16,391] Trial 46 finished with value: -0.05 and parameters: {'n_estimators': 144, 'max_depth': 27, 'min_samples_split': 3, 'min_samples_leaf': 5}. Best is trial 4 with value: -0.03333333333333333.\n",
            "[I 2025-07-21 08:20:19,313] Trial 47 finished with value: -0.05833333333333333 and parameters: {'n_estimators': 429, 'max_depth': 38, 'min_samples_split': 17, 'min_samples_leaf': 18}. Best is trial 4 with value: -0.03333333333333333.\n",
            "[I 2025-07-21 08:20:23,813] Trial 48 finished with value: -0.05 and parameters: {'n_estimators': 660, 'max_depth': 41, 'min_samples_split': 18, 'min_samples_leaf': 5}. Best is trial 4 with value: -0.03333333333333333.\n",
            "[I 2025-07-21 08:20:25,851] Trial 49 finished with value: -0.05 and parameters: {'n_estimators': 194, 'max_depth': 14, 'min_samples_split': 6, 'min_samples_leaf': 7}. Best is trial 4 with value: -0.03333333333333333.\n",
            "[I 2025-07-21 08:20:32,347] Trial 50 finished with value: -0.30833333333333335 and parameters: {'n_estimators': 839, 'max_depth': 13, 'min_samples_split': 6, 'min_samples_leaf': 29}. Best is trial 4 with value: -0.03333333333333333.\n",
            "[I 2025-07-21 08:20:37,981] Trial 51 finished with value: -0.041666666666666664 and parameters: {'n_estimators': 831, 'max_depth': 24, 'min_samples_split': 16, 'min_samples_leaf': 8}. Best is trial 4 with value: -0.03333333333333333.\n",
            "[I 2025-07-21 08:20:44,106] Trial 52 finished with value: -0.05 and parameters: {'n_estimators': 664, 'max_depth': 43, 'min_samples_split': 9, 'min_samples_leaf': 1}. Best is trial 4 with value: -0.03333333333333333.\n",
            "[I 2025-07-21 08:20:49,411] Trial 53 finished with value: -0.05 and parameters: {'n_estimators': 779, 'max_depth': 20, 'min_samples_split': 24, 'min_samples_leaf': 4}. Best is trial 4 with value: -0.03333333333333333.\n",
            "[I 2025-07-21 08:20:55,029] Trial 54 finished with value: -0.30833333333333335 and parameters: {'n_estimators': 687, 'max_depth': 19, 'min_samples_split': 2, 'min_samples_leaf': 29}. Best is trial 4 with value: -0.03333333333333333.\n",
            "[I 2025-07-21 08:20:59,379] Trial 55 finished with value: -0.3 and parameters: {'n_estimators': 576, 'max_depth': 24, 'min_samples_split': 25, 'min_samples_leaf': 31}. Best is trial 4 with value: -0.03333333333333333.\n",
            "[I 2025-07-21 08:21:05,602] Trial 56 finished with value: -0.041666666666666664 and parameters: {'n_estimators': 922, 'max_depth': 50, 'min_samples_split': 27, 'min_samples_leaf': 7}. Best is trial 4 with value: -0.03333333333333333.\n",
            "[I 2025-07-21 08:21:10,749] Trial 57 finished with value: -0.041666666666666664 and parameters: {'n_estimators': 527, 'max_depth': 26, 'min_samples_split': 7, 'min_samples_leaf': 18}. Best is trial 4 with value: -0.03333333333333333.\n",
            "[I 2025-07-21 08:21:14,074] Trial 58 finished with value: -0.041666666666666664 and parameters: {'n_estimators': 492, 'max_depth': 32, 'min_samples_split': 10, 'min_samples_leaf': 15}. Best is trial 4 with value: -0.03333333333333333.\n",
            "[I 2025-07-21 08:21:19,342] Trial 59 finished with value: -0.03333333333333333 and parameters: {'n_estimators': 785, 'max_depth': 16, 'min_samples_split': 32, 'min_samples_leaf': 19}. Best is trial 4 with value: -0.03333333333333333.\n",
            "[I 2025-07-21 08:21:20,248] Trial 60 finished with value: -0.05 and parameters: {'n_estimators': 128, 'max_depth': 23, 'min_samples_split': 22, 'min_samples_leaf': 17}. Best is trial 4 with value: -0.03333333333333333.\n",
            "[I 2025-07-21 08:21:26,401] Trial 61 finished with value: -0.041666666666666664 and parameters: {'n_estimators': 667, 'max_depth': 48, 'min_samples_split': 7, 'min_samples_leaf': 15}. Best is trial 4 with value: -0.03333333333333333.\n",
            "[I 2025-07-21 08:21:28,326] Trial 62 finished with value: -0.041666666666666664 and parameters: {'n_estimators': 281, 'max_depth': 48, 'min_samples_split': 9, 'min_samples_leaf': 8}. Best is trial 4 with value: -0.03333333333333333.\n",
            "[I 2025-07-21 08:21:30,743] Trial 63 finished with value: -0.21666666666666665 and parameters: {'n_estimators': 358, 'max_depth': 49, 'min_samples_split': 23, 'min_samples_leaf': 25}. Best is trial 4 with value: -0.03333333333333333.\n",
            "[I 2025-07-21 08:21:32,616] Trial 64 finished with value: -0.30833333333333335 and parameters: {'n_estimators': 278, 'max_depth': 10, 'min_samples_split': 14, 'min_samples_leaf': 29}. Best is trial 4 with value: -0.03333333333333333.\n",
            "[I 2025-07-21 08:21:33,374] Trial 65 finished with value: -0.2916666666666667 and parameters: {'n_estimators': 111, 'max_depth': 19, 'min_samples_split': 19, 'min_samples_leaf': 28}. Best is trial 4 with value: -0.03333333333333333.\n",
            "[I 2025-07-21 08:21:35,685] Trial 66 finished with value: -0.325 and parameters: {'n_estimators': 268, 'max_depth': 43, 'min_samples_split': 15, 'min_samples_leaf': 32}. Best is trial 4 with value: -0.03333333333333333.\n",
            "[I 2025-07-21 08:21:42,814] Trial 67 finished with value: -0.041666666666666664 and parameters: {'n_estimators': 900, 'max_depth': 38, 'min_samples_split': 14, 'min_samples_leaf': 9}. Best is trial 4 with value: -0.03333333333333333.\n",
            "[I 2025-07-21 08:21:43,809] Trial 68 finished with value: -0.06666666666666667 and parameters: {'n_estimators': 143, 'max_depth': 12, 'min_samples_split': 29, 'min_samples_leaf': 20}. Best is trial 4 with value: -0.03333333333333333.\n",
            "[I 2025-07-21 08:21:50,668] Trial 69 finished with value: -0.041666666666666664 and parameters: {'n_estimators': 888, 'max_depth': 32, 'min_samples_split': 30, 'min_samples_leaf': 15}. Best is trial 4 with value: -0.03333333333333333.\n",
            "[I 2025-07-21 08:21:53,806] Trial 70 finished with value: -0.30833333333333335 and parameters: {'n_estimators': 388, 'max_depth': 17, 'min_samples_split': 21, 'min_samples_leaf': 30}. Best is trial 4 with value: -0.03333333333333333.\n",
            "[I 2025-07-21 08:21:58,002] Trial 71 finished with value: -0.041666666666666664 and parameters: {'n_estimators': 612, 'max_depth': 24, 'min_samples_split': 17, 'min_samples_leaf': 14}. Best is trial 4 with value: -0.03333333333333333.\n",
            "[I 2025-07-21 08:22:01,723] Trial 72 finished with value: -0.041666666666666664 and parameters: {'n_estimators': 546, 'max_depth': 27, 'min_samples_split': 28, 'min_samples_leaf': 16}. Best is trial 4 with value: -0.03333333333333333.\n",
            "[I 2025-07-21 08:22:05,157] Trial 73 finished with value: -0.30833333333333335 and parameters: {'n_estimators': 332, 'max_depth': 19, 'min_samples_split': 7, 'min_samples_leaf': 29}. Best is trial 4 with value: -0.03333333333333333.\n",
            "[I 2025-07-21 08:22:09,690] Trial 74 finished with value: -0.041666666666666664 and parameters: {'n_estimators': 621, 'max_depth': 27, 'min_samples_split': 27, 'min_samples_leaf': 1}. Best is trial 4 with value: -0.03333333333333333.\n",
            "[I 2025-07-21 08:22:13,883] Trial 75 finished with value: -0.3 and parameters: {'n_estimators': 621, 'max_depth': 26, 'min_samples_split': 3, 'min_samples_leaf': 30}. Best is trial 4 with value: -0.03333333333333333.\n",
            "[I 2025-07-21 08:22:15,303] Trial 76 finished with value: -0.23333333333333334 and parameters: {'n_estimators': 207, 'max_depth': 49, 'min_samples_split': 23, 'min_samples_leaf': 26}. Best is trial 4 with value: -0.03333333333333333.\n",
            "[I 2025-07-21 08:22:19,845] Trial 77 finished with value: -0.05 and parameters: {'n_estimators': 438, 'max_depth': 44, 'min_samples_split': 18, 'min_samples_leaf': 12}. Best is trial 4 with value: -0.03333333333333333.\n",
            "[I 2025-07-21 08:22:25,516] Trial 78 finished with value: -0.05 and parameters: {'n_estimators': 828, 'max_depth': 32, 'min_samples_split': 10, 'min_samples_leaf': 3}. Best is trial 4 with value: -0.03333333333333333.\n",
            "[I 2025-07-21 08:22:32,772] Trial 79 finished with value: -0.05 and parameters: {'n_estimators': 885, 'max_depth': 45, 'min_samples_split': 2, 'min_samples_leaf': 1}. Best is trial 4 with value: -0.03333333333333333.\n",
            "[I 2025-07-21 08:22:36,512] Trial 80 finished with value: -0.30833333333333335 and parameters: {'n_estimators': 512, 'max_depth': 37, 'min_samples_split': 20, 'min_samples_leaf': 29}. Best is trial 4 with value: -0.03333333333333333.\n",
            "[I 2025-07-21 08:22:37,432] Trial 81 finished with value: -0.05 and parameters: {'n_estimators': 130, 'max_depth': 33, 'min_samples_split': 10, 'min_samples_leaf': 12}. Best is trial 4 with value: -0.03333333333333333.\n",
            "[I 2025-07-21 08:22:38,268] Trial 82 finished with value: -0.041666666666666664 and parameters: {'n_estimators': 119, 'max_depth': 40, 'min_samples_split': 20, 'min_samples_leaf': 14}. Best is trial 4 with value: -0.03333333333333333.\n",
            "[I 2025-07-21 08:22:44,607] Trial 83 finished with value: -0.14166666666666666 and parameters: {'n_estimators': 886, 'max_depth': 46, 'min_samples_split': 10, 'min_samples_leaf': 24}. Best is trial 4 with value: -0.03333333333333333.\n",
            "[I 2025-07-21 08:22:52,005] Trial 84 finished with value: -0.10833333333333332 and parameters: {'n_estimators': 939, 'max_depth': 12, 'min_samples_split': 26, 'min_samples_leaf': 22}. Best is trial 4 with value: -0.03333333333333333.\n",
            "[I 2025-07-21 08:22:54,570] Trial 85 finished with value: -0.041666666666666664 and parameters: {'n_estimators': 377, 'max_depth': 35, 'min_samples_split': 20, 'min_samples_leaf': 14}. Best is trial 4 with value: -0.03333333333333333.\n",
            "[I 2025-07-21 08:22:59,215] Trial 86 finished with value: -0.041666666666666664 and parameters: {'n_estimators': 576, 'max_depth': 13, 'min_samples_split': 3, 'min_samples_leaf': 7}. Best is trial 4 with value: -0.03333333333333333.\n",
            "[I 2025-07-21 08:23:00,315] Trial 87 finished with value: -0.10833333333333332 and parameters: {'n_estimators': 103, 'max_depth': 11, 'min_samples_split': 16, 'min_samples_leaf': 22}. Best is trial 4 with value: -0.03333333333333333.\n",
            "[I 2025-07-21 08:23:04,070] Trial 88 finished with value: -0.29166666666666663 and parameters: {'n_estimators': 505, 'max_depth': 25, 'min_samples_split': 18, 'min_samples_leaf': 31}. Best is trial 4 with value: -0.03333333333333333.\n",
            "[I 2025-07-21 08:23:10,186] Trial 89 finished with value: -0.041666666666666664 and parameters: {'n_estimators': 901, 'max_depth': 28, 'min_samples_split': 14, 'min_samples_leaf': 7}. Best is trial 4 with value: -0.03333333333333333.\n",
            "[I 2025-07-21 08:23:17,373] Trial 90 finished with value: -0.05 and parameters: {'n_estimators': 824, 'max_depth': 22, 'min_samples_split': 5, 'min_samples_leaf': 4}. Best is trial 4 with value: -0.03333333333333333.\n",
            "[I 2025-07-21 08:23:23,745] Trial 91 finished with value: -0.07499999999999998 and parameters: {'n_estimators': 953, 'max_depth': 24, 'min_samples_split': 14, 'min_samples_leaf': 21}. Best is trial 4 with value: -0.03333333333333333.\n",
            "[I 2025-07-21 08:23:30,325] Trial 92 finished with value: -0.041666666666666664 and parameters: {'n_estimators': 737, 'max_depth': 40, 'min_samples_split': 10, 'min_samples_leaf': 12}. Best is trial 4 with value: -0.03333333333333333.\n",
            "[I 2025-07-21 08:23:35,715] Trial 93 finished with value: -0.3 and parameters: {'n_estimators': 802, 'max_depth': 33, 'min_samples_split': 27, 'min_samples_leaf': 28}. Best is trial 4 with value: -0.03333333333333333.\n",
            "[I 2025-07-21 08:23:42,487] Trial 94 finished with value: -0.041666666666666664 and parameters: {'n_estimators': 843, 'max_depth': 48, 'min_samples_split': 13, 'min_samples_leaf': 12}. Best is trial 4 with value: -0.03333333333333333.\n",
            "[I 2025-07-21 08:23:48,631] Trial 95 finished with value: -0.041666666666666664 and parameters: {'n_estimators': 845, 'max_depth': 38, 'min_samples_split': 2, 'min_samples_leaf': 10}. Best is trial 4 with value: -0.03333333333333333.\n",
            "[I 2025-07-21 08:23:50,447] Trial 96 finished with value: -0.041666666666666664 and parameters: {'n_estimators': 265, 'max_depth': 20, 'min_samples_split': 24, 'min_samples_leaf': 7}. Best is trial 4 with value: -0.03333333333333333.\n",
            "[I 2025-07-21 08:23:53,944] Trial 97 finished with value: -0.041666666666666664 and parameters: {'n_estimators': 492, 'max_depth': 30, 'min_samples_split': 28, 'min_samples_leaf': 7}. Best is trial 4 with value: -0.03333333333333333.\n",
            "[I 2025-07-21 08:23:57,967] Trial 98 finished with value: -0.06666666666666667 and parameters: {'n_estimators': 374, 'max_depth': 28, 'min_samples_split': 16, 'min_samples_leaf': 18}. Best is trial 4 with value: -0.03333333333333333.\n",
            "[I 2025-07-21 08:24:02,802] Trial 99 finished with value: -0.041666666666666664 and parameters: {'n_estimators': 722, 'max_depth': 46, 'min_samples_split': 16, 'min_samples_leaf': 12}. Best is trial 4 with value: -0.03333333333333333.\n"
          ]
        }
      ],
      "source": [
        "study.optimize(objective, n_trials=100)"
      ]
    },
    {
      "cell_type": "markdown",
      "id": "b4be1e87-44e8-47e0-84fc-bd0360ac75c4",
      "metadata": {
        "id": "b4be1e87-44e8-47e0-84fc-bd0360ac75c4"
      },
      "source": [
        "it may take a while... so just wait n see ^^\n",
        "<br>\n",
        "they recommend to set n_trials at 100 cz it seems there's no significant score increase after 100 trials (also inefficient too, you'll have to wait in a quite long time)"
      ]
    },
    {
      "cell_type": "code",
      "execution_count": null,
      "id": "fd29b3c9-c995-4400-8912-b448d57123a0",
      "metadata": {
        "scrolled": true,
        "id": "fd29b3c9-c995-4400-8912-b448d57123a0",
        "outputId": "e3e73103-b89d-4d77-9f7d-a70ac683074f",
        "colab": {
          "base_uri": "https://localhost:8080/"
        }
      },
      "outputs": [
        {
          "output_type": "execute_result",
          "data": {
            "text/plain": [
              "{'n_estimators': 523,\n",
              " 'max_depth': 17,\n",
              " 'min_samples_split': 12,\n",
              " 'min_samples_leaf': 15}"
            ]
          },
          "metadata": {},
          "execution_count": 13
        }
      ],
      "source": [
        "study.best_params"
      ]
    },
    {
      "cell_type": "markdown",
      "id": "2d237d95-758a-4912-91c2-824ce140a034",
      "metadata": {
        "id": "2d237d95-758a-4912-91c2-824ce140a034"
      },
      "source": [
        "Berikut hasil hyperparameter tuning dari Optuna"
      ]
    },
    {
      "cell_type": "code",
      "execution_count": null,
      "id": "df96a601-d6df-4a96-8d1e-f89e79293b02",
      "metadata": {
        "id": "df96a601-d6df-4a96-8d1e-f89e79293b02",
        "outputId": "fd1f6d00-ceaf-432e-a21e-58dba405ae06",
        "colab": {
          "base_uri": "https://localhost:8080/"
        }
      },
      "outputs": [
        {
          "output_type": "stream",
          "name": "stdout",
          "text": [
            "Best Hyperparameters: {'n_estimators': 523, 'max_depth': 17, 'min_samples_split': 12, 'min_samples_leaf': 15}\n"
          ]
        }
      ],
      "source": [
        "# cek hasil hyperparameter tuning dari Optuna"
      ]
    },
    {
      "cell_type": "code",
      "execution_count": 20,
      "id": "3059ffb1-940a-4f7b-a4ea-7e555b5651c3",
      "metadata": {
        "id": "3059ffb1-940a-4f7b-a4ea-7e555b5651c3"
      },
      "outputs": [],
      "source": [
        "# simpan hasil best hyperparameter tuning ke variabel bari\n",
        "1 = study.best_params"
      ]
    },
    {
      "cell_type": "markdown",
      "id": "4b830d4e-4e08-4ced-a78e-c7ae9e5e7a26",
      "metadata": {
        "id": "4b830d4e-4e08-4ced-a78e-c7ae9e5e7a26"
      },
      "source": [
        "# Random Forest Using Optuna"
      ]
    },
    {
      "cell_type": "code",
      "execution_count": 21,
      "id": "c8a747ff-1fde-4774-9c0a-f2f83f90ad81",
      "metadata": {
        "id": "c8a747ff-1fde-4774-9c0a-f2f83f90ad81",
        "outputId": "1c86aac2-ed32-4f5a-f7b6-8600eedfdac8",
        "colab": {
          "base_uri": "https://localhost:8080/",
          "height": 193
        }
      },
      "outputs": [
        {
          "output_type": "error",
          "ename": "TypeError",
          "evalue": "sklearn.ensemble._forest.RandomForestClassifier() argument after ** must be a mapping, not ellipsis",
          "traceback": [
            "\u001b[0;31m---------------------------------------------------------------------------\u001b[0m",
            "\u001b[0;31mTypeError\u001b[0m                                 Traceback (most recent call last)",
            "\u001b[0;32m/tmp/ipython-input-1599526190.py\u001b[0m in \u001b[0;36m<cell line: 0>\u001b[0;34m()\u001b[0m\n\u001b[0;32m----> 1\u001b[0;31m \u001b[0mbest_model\u001b[0m \u001b[0;34m=\u001b[0m \u001b[0mRandomForestClassifier\u001b[0m\u001b[0;34m(\u001b[0m\u001b[0;34m**\u001b[0m\u001b[0mbest_params\u001b[0m\u001b[0;34m)\u001b[0m\u001b[0;34m\u001b[0m\u001b[0;34m\u001b[0m\u001b[0m\n\u001b[0m\u001b[1;32m      2\u001b[0m \u001b[0;34m\u001b[0m\u001b[0m\n\u001b[1;32m      3\u001b[0m \u001b[0mbest_model\u001b[0m\u001b[0;34m.\u001b[0m\u001b[0mfit\u001b[0m\u001b[0;34m(\u001b[0m\u001b[0mX_train\u001b[0m\u001b[0;34m,\u001b[0m \u001b[0my_train\u001b[0m\u001b[0;34m)\u001b[0m\u001b[0;34m\u001b[0m\u001b[0;34m\u001b[0m\u001b[0m\n",
            "\u001b[0;31mTypeError\u001b[0m: sklearn.ensemble._forest.RandomForestClassifier() argument after ** must be a mapping, not ellipsis"
          ]
        }
      ],
      "source": [
        "best_model = RandomForestClassifier(**best_params)\n",
        "\n",
        "best_model.fit(X_train, y_train)"
      ]
    },
    {
      "cell_type": "code",
      "execution_count": null,
      "id": "b3f9ad09-ca4d-4fb6-a205-1cb5d00a9857",
      "metadata": {
        "id": "b3f9ad09-ca4d-4fb6-a205-1cb5d00a9857"
      },
      "outputs": [],
      "source": [
        "y_pred = best_model.predict(X_test)"
      ]
    },
    {
      "cell_type": "code",
      "execution_count": null,
      "id": "69d588db-1c12-4c78-8e55-0800b5f6375c",
      "metadata": {
        "id": "69d588db-1c12-4c78-8e55-0800b5f6375c",
        "outputId": "5eacfaea-8af2-4b28-9678-31dc12d32420",
        "colab": {
          "base_uri": "https://localhost:8080/"
        }
      },
      "outputs": [
        {
          "output_type": "stream",
          "name": "stdout",
          "text": [
            "Accuracy: 0.933\n",
            "Precision: 0.947\n",
            "Recall: 0.933\n",
            "F1 Score: 0.934\n",
            "              precision    recall  f1-score   support\n",
            "\n",
            "           0       1.00      1.00      1.00        10\n",
            "           1       0.80      1.00      0.89         8\n",
            "           2       1.00      0.83      0.91        12\n",
            "\n",
            "    accuracy                           0.93        30\n",
            "   macro avg       0.93      0.94      0.93        30\n",
            "weighted avg       0.95      0.93      0.93        30\n",
            "\n"
          ]
        }
      ],
      "source": [
        "print(f\"Accuracy: {accuracy_score(y_test, y_pred):.3f}\")\n",
        "print(f\"Precision: {precision_score(y_test, y_pred, average='weighted'):.3f}\")\n",
        "print(f\"Recall: {recall_score(y_test, y_pred, average='weighted'):.3f}\")\n",
        "print(f\"F1 Score: {f1_score(y_test, y_pred, average='weighted'):.3f}\")\n",
        "print(classification_report(y_test, y_pred))"
      ]
    },
    {
      "cell_type": "markdown",
      "id": "7459396f-8ae6-4742-85db-717afac20a44",
      "metadata": {
        "id": "7459396f-8ae6-4742-85db-717afac20a44"
      },
      "source": [
        "Tidak terdapat kenaikan skor dengan sebelum menggunakan Optuna sebab skor yang dihasilkan melalui base model saja sudah bagus"
      ]
    }
  ],
  "metadata": {
    "kernelspec": {
      "display_name": "Python [conda env:jcopml]",
      "language": "python",
      "name": "conda-env-jcopml-py"
    },
    "language_info": {
      "codemirror_mode": {
        "name": "ipython",
        "version": 3
      },
      "file_extension": ".py",
      "mimetype": "text/x-python",
      "name": "python",
      "nbconvert_exporter": "python",
      "pygments_lexer": "ipython3",
      "version": "3.9.0"
    },
    "colab": {
      "provenance": []
    }
  },
  "nbformat": 4,
  "nbformat_minor": 5
}